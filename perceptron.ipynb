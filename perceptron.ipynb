{
 "cells": [
  {
   "cell_type": "markdown",
   "id": "883f524c",
   "metadata": {},
   "source": [
    "# Perceptron - A single neuron"
   ]
  },
  {
   "attachments": {},
   "cell_type": "markdown",
   "id": "beef6fd5",
   "metadata": {},
   "source": [
    "A perceptron is a building block of an Artificial neural network. Understanding\n",
    "how inputs are fed into a neural network, how weights initialization and adjustments done, \n",
    "how activation functions, forward propagation and backward propagation come as a whole \n",
    "in a neural network can be well understood using just a single neuron.\n",
    "<img src=\"./images/1.jpg\" src=\"perceptron_image\">\n",
    "<img src=\"./images/2.jpg\" src=\"problem_set\">\n",
    "<img src=\"./images/3.jpg\" src=\"back_propagation_algorithm\">\n",
    "<img src=\"./images/4.jpg\" src=\"logic_implementation_back_propagation\">"
   ]
  },
  {
   "cell_type": "markdown",
   "id": "606f6d78",
   "metadata": {},
   "source": [
    "### 1. Importing necessary libraries"
   ]
  },
  {
   "cell_type": "code",
   "execution_count": 99,
   "id": "3ed4c0ed",
   "metadata": {},
   "outputs": [],
   "source": [
    "import numpy as np"
   ]
  },
  {
   "cell_type": "markdown",
   "id": "264486db",
   "metadata": {},
   "source": [
    "### 2. The Perceptron class"
   ]
  },
  {
   "cell_type": "code",
   "execution_count": 126,
   "id": "b2369951",
   "metadata": {},
   "outputs": [],
   "source": [
    "class Perceptron:\n",
    "    \n",
    "    ## Constructor\n",
    "    def __init__(self, EPOCH = 10000):\n",
    "        np.random.seed(2)\n",
    "        # Initilize the weights\n",
    "        self.weights = np.random.rand(3, 1)\n",
    "        self.epoch = EPOCH\n",
    "        \n",
    "        \n",
    "    # Activation function\n",
    "    def _sigmoid(self, x):\n",
    "        return 1 / (1 + np.exp(-x))\n",
    "\n",
    "    # Partial derivative of sigmoid function\n",
    "    def _sigmoid_derivative(self, x):\n",
    "        return x * (1 - x)\n",
    "        \n",
    "    \n",
    "    ## Training the dataset\n",
    "    def fit(self, train_inputs, train_outputs):\n",
    "        \n",
    "        for _ in range(self.epoch):\n",
    "            # Forward propagation\n",
    "            current_outputs = self._sigmoid(np.dot(train_inputs, self.weights))\n",
    "\n",
    "            # Cacluate error\n",
    "            error = train_outputs - current_outputs\n",
    "\n",
    "            # Adjustments to weights\n",
    "            adjustments = error * self._sigmoid_derivative(current_outputs)\n",
    "\n",
    "            # Update the weight\n",
    "            self.weights = self.weights + np.dot(train_inputs.T, adjustments)\n",
    "            \n",
    "    \n",
    "    \n",
    "    ## Predicting function\n",
    "    def predict(self, inputs):\n",
    "        return sigmoid(np.dot(inputs, self.weights))"
   ]
  },
  {
   "cell_type": "markdown",
   "id": "29e36679",
   "metadata": {},
   "source": [
    "### 3. Initialize weight and epoch"
   ]
  },
  {
   "cell_type": "code",
   "execution_count": 121,
   "id": "e7a45c6e",
   "metadata": {},
   "outputs": [
    {
     "name": "stdout",
     "output_type": "stream",
     "text": [
      "[[0.4359949 ]\n",
      " [0.02592623]\n",
      " [0.54966248]]\n",
      "\n",
      "10000\n"
     ]
    }
   ],
   "source": [
    "net = Perceptron()\n",
    "print(net.weights)\n",
    "print()\n",
    "print(net.epoch)"
   ]
  },
  {
   "cell_type": "markdown",
   "id": "95968813",
   "metadata": {},
   "source": [
    "### 4. Training inputs and training outputs"
   ]
  },
  {
   "cell_type": "code",
   "execution_count": 122,
   "id": "3f5c84c7",
   "metadata": {},
   "outputs": [],
   "source": [
    "training_inputs = np.array([[0, 0, 1],\n",
    "                            [1, 1, 1],\n",
    "                            [1, 0, 1],\n",
    "                            [0, 1, 1]])\n",
    "\n",
    "training_outputs = np.array([[0],\n",
    "                             [1],\n",
    "                             [1],\n",
    "                             [0]])"
   ]
  },
  {
   "cell_type": "markdown",
   "id": "a2f0f351",
   "metadata": {},
   "source": [
    "### 5. Train the perceptron"
   ]
  },
  {
   "cell_type": "code",
   "execution_count": 123,
   "id": "6eb1562e",
   "metadata": {},
   "outputs": [],
   "source": [
    "net.fit(training_inputs, training_outputs)"
   ]
  },
  {
   "cell_type": "markdown",
   "id": "a92d690f",
   "metadata": {},
   "source": [
    "### 6. Predicting the output"
   ]
  },
  {
   "cell_type": "code",
   "execution_count": 125,
   "id": "12983480",
   "metadata": {},
   "outputs": [
    {
     "name": "stdout",
     "output_type": "stream",
     "text": [
      "[[0.00966871]]\n"
     ]
    }
   ],
   "source": [
    "x = [[0, 0, 1]] # expected ouput = 0\n",
    "print(net.predict(x))"
   ]
  }
 ],
 "metadata": {
  "kernelspec": {
   "display_name": "Python 3 (ipykernel)",
   "language": "python",
   "name": "python3"
  },
  "language_info": {
   "codemirror_mode": {
    "name": "ipython",
    "version": 3
   },
   "file_extension": ".py",
   "mimetype": "text/x-python",
   "name": "python",
   "nbconvert_exporter": "python",
   "pygments_lexer": "ipython3",
   "version": "3.10.7"
  }
 },
 "nbformat": 4,
 "nbformat_minor": 5
}
